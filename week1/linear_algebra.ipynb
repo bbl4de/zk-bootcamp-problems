{
 "cells": [
  {
   "cell_type": "markdown",
   "id": "8224ec01",
   "metadata": {},
   "source": [
    "# Numpy warmup\n",
    "Make sure you have numpy installed."
   ]
  },
  {
   "cell_type": "code",
   "execution_count": null,
   "id": "5264b2b6",
   "metadata": {},
   "outputs": [
    {
     "name": "stderr",
     "output_type": "stream",
     "text": [
      "155.12s - pydevd: Sending message related to process being replaced timed-out after 5 seconds\n"
     ]
    },
    {
     "name": "stdout",
     "output_type": "stream",
     "text": [
      "Defaulting to user installation because normal site-packages is not writeable\n",
      "Requirement already satisfied: numpy in /Users/bbl4de/Library/Python/3.9/lib/python/site-packages (2.0.2)\n"
     ]
    }
   ],
   "source": [
    "!python3 -m pip install numpy"
   ]
  },
  {
   "cell_type": "markdown",
   "id": "04db20bb",
   "metadata": {},
   "source": [
    "You might need to restart the notebook after running the command above"
   ]
  },
  {
   "cell_type": "code",
   "execution_count": null,
   "id": "3d2251a2",
   "metadata": {},
   "outputs": [],
   "source": [
    "import numpy as np"
   ]
  },
  {
   "cell_type": "markdown",
   "id": "c86d8671",
   "metadata": {},
   "source": [
    "## Exercise 1, add two arrays together\n",
    "We have two arrays: A and B\n",
    "\n",
    "`A = [[1,2,3],[4,5,6],[7,8,9]]`\n",
    "\n",
    "`B = [[1,1,1],[2,2,2],[3,3,3]]`\n",
    "\n",
    "`C = [[2,3,4],[6,7,8],[10,11,12]]`\n",
    "\n",
    "Your code should work for general matrices, not just the ones above. Use `np.array`, not `np.matrix`. Your function will need to cast the above to np.arrays. If you get stuck ask chatGPT!"
   ]
  },
  {
   "cell_type": "code",
   "execution_count": null,
   "id": "9f134247",
   "metadata": {},
   "outputs": [],
   "source": [
    "A = [[1,2,3],[4,5,6],[7,8,9]]\n",
    "B = [[1,1,1],[2,2,2],[3,3,3]]\n",
    "C = [[2,3,4],[6,7,8],[10,11,12]]"
   ]
  },
  {
   "cell_type": "code",
   "execution_count": null,
   "id": "94de350e",
   "metadata": {},
   "outputs": [],
   "source": [
    "def add_arrays(A, B):\n",
    "    A = np.array(A) \n",
    "    B = np.array(B)\n",
    "    return A + B"
   ]
  },
  {
   "cell_type": "code",
   "execution_count": null,
   "id": "aed0cd1a",
   "metadata": {},
   "outputs": [],
   "source": [
    "assert (add_arrays(A, B) == np.array(C)).all()"
   ]
  },
  {
   "cell_type": "markdown",
   "id": "967d5dc9",
   "metadata": {},
   "source": [
    "What does the `.all()` do? The above operation does an elementwise equality check. It checks that every item in the array is `True`."
   ]
  },
  {
   "cell_type": "code",
   "execution_count": null,
   "id": "f1d4b309",
   "metadata": {},
   "outputs": [
    {
     "name": "stdout",
     "output_type": "stream",
     "text": [
      "True\n",
      "False\n"
     ]
    }
   ],
   "source": [
    "print(np.array([True, True, True]).all())\n",
    "print(np.array([False, True, True]).all())"
   ]
  },
  {
   "cell_type": "markdown",
   "id": "1402501f",
   "metadata": {},
   "source": [
    "## Exercise 2, element-wise and matrix multiplication\n",
    "When dealing with numpy arrays, we need to be clear if we are doing matrix multiplication or elementwise multiplication.\n",
    "\n",
    "Your task is to write functions for both. Numpy supports both, figure out how it does it. Don't implement it manually"
   ]
  },
  {
   "cell_type": "code",
   "execution_count": null,
   "id": "b1e325c0",
   "metadata": {},
   "outputs": [],
   "source": [
    "def matrix_multiply(A, B):\n",
    "    C = np.matmul(np.array(A), np.array(B))\n",
    "    return C"
   ]
  },
  {
   "cell_type": "code",
   "execution_count": null,
   "id": "8c57f787",
   "metadata": {},
   "outputs": [],
   "source": [
    "def element_wise_multiply(A, B):\n",
    "    C = np.multiply(np.array(A), np.array(B))\n",
    "    return C"
   ]
  },
  {
   "cell_type": "markdown",
   "id": "ce49c298",
   "metadata": {},
   "source": [
    "To avoid giving hints, we won't supply the test case here. But you can check your work online!"
   ]
  },
  {
   "cell_type": "markdown",
   "id": "cc3d19b4",
   "metadata": {},
   "source": [
    "## Exercise 3, the dot product\n",
    "The dot product is another kind of multiplication.\n",
    "\n",
    "We expect [1,2,3,4] $\\cdot$ [1,2,3,4] to be equal (1 * 1) + (2 * 2) + (3 * 3) + (4 * 4) = 1 + 4 + 9 + 16 = 20\n",
    "\n",
    "Figure out numpy's implementation and do it. Don't implement it manually."
   ]
  },
  {
   "cell_type": "code",
   "execution_count": null,
   "id": "2debbd80",
   "metadata": {},
   "outputs": [],
   "source": [
    "def dot_product(A, B):\n",
    "    C = np.dot(np.array(A), np.array(B))\n",
    "    return C"
   ]
  },
  {
   "cell_type": "markdown",
   "id": "4db076e0",
   "metadata": {},
   "source": [
    "## Exercise 4, linear combinations\n",
    "\n",
    "A linear combination is a Vector multiplied by a constant plus another Vector multiplied by a constant.\n",
    "\n",
    "Aa + Bb = C (A, B, C are vectors, a and b are scalars)\n",
    "\n",
    "Compute the linear combination in the general case."
   ]
  },
  {
   "cell_type": "code",
   "execution_count": null,
   "id": "5557bacf",
   "metadata": {},
   "outputs": [],
   "source": [
    "def linearCombination(A, B, a, b):\n",
    "    # Todo, add your code\n",
    "    A = np.array(A)\n",
    "    B = np.array(B)\n",
    "    return a * A + b * B\n"
   ]
  },
  {
   "cell_type": "code",
   "execution_count": null,
   "id": "740fc57e",
   "metadata": {},
   "outputs": [],
   "source": [
    "vector1 = np.array([1,2])\n",
    "vector2 = np.array([5,6])\n",
    "scalar1 = 3\n",
    "scalar2 = 10\n",
    "\n",
    "assert (np.array([53, 66]) == linearCombination(vector1, vector2, scalar1, scalar2)).all()"
   ]
  },
  {
   "cell_type": "markdown",
   "id": "1b0eb2c3",
   "metadata": {},
   "source": [
    "## Exercise 5, modular arithmetic\n",
    "Modular arithmetic is important in cryptography. The challenge here is to compute the modular inverse of 15 % 1223. That is 15 * x % 1223 == 1. The basic syntax for this is the same as other languages"
   ]
  },
  {
   "cell_type": "code",
   "execution_count": null,
   "id": "cb60c4d3",
   "metadata": {},
   "outputs": [],
   "source": [
    "(5 * 16) % 1223"
   ]
  },
  {
   "cell_type": "code",
   "execution_count": null,
   "id": "0b5767f6",
   "metadata": {},
   "outputs": [],
   "source": [
    "(5 + 1219) % 1223"
   ]
  },
  {
   "cell_type": "markdown",
   "id": "1c7ff62d",
   "metadata": {},
   "source": [
    "Be very careful, because the mod operator sometimes takes precedence!"
   ]
  },
  {
   "cell_type": "code",
   "execution_count": null,
   "id": "93529365",
   "metadata": {},
   "outputs": [],
   "source": [
    "## Todo: compute x\n",
    "x = pow(5, -1, 1223)\n",
    "assert 5 * x % 1223 == 1"
   ]
  },
  {
   "cell_type": "markdown",
   "id": "8b433bfe",
   "metadata": {},
   "source": [
    "Hint: Python 3.8 has a very nice way to do this"
   ]
  },
  {
   "cell_type": "markdown",
   "id": "ffcd1ff6",
   "metadata": {},
   "source": [
    "## Exercise 6, Column and Row Slicing\n",
    "\n",
    "Numpy let's you select rows and columns from matrices. For example, given\n",
    "\n",
    "```\n",
    "[[1,2,3],\n",
    " [4,5,6],\n",
    " [7,8,9]] \n",
    "```\n",
    " \n",
    "you can retrive [2,5,8] or [7,8,9] conveniently. Implement those below:"
   ]
  },
  {
   "cell_type": "code",
   "execution_count": null,
   "id": "38d5970a",
   "metadata": {},
   "outputs": [],
   "source": [
    "def get_column_as_1d(A, col_number):\n",
    "    # todo\n",
    "    A = np.array(A)\n",
    "    return A[:, col_number]\n",
    "\n",
    "def get_row_as_1d(A, row_number):\n",
    "    # todo\n",
    "    A = np.array(A)\n",
    "    return A[row_number,:]"
   ]
  },
  {
   "cell_type": "code",
   "execution_count": null,
   "id": "c9365851",
   "metadata": {},
   "outputs": [],
   "source": [
    "A = [[1,2,3],[4,5,6],[7,8,9]] "
   ]
  },
  {
   "cell_type": "code",
   "execution_count": null,
   "id": "81e8deab",
   "metadata": {},
   "outputs": [],
   "source": [
    "print(get_column_as_1d(A, 1)) # [2,5,8]"
   ]
  },
  {
   "cell_type": "code",
   "execution_count": null,
   "id": "47da1d88",
   "metadata": {},
   "outputs": [],
   "source": [
    "print(get_row_as_1d(A, 2)) # [7,8,9]"
   ]
  }
 ],
 "metadata": {
  "language_info": {
   "name": "python"
  }
 },
 "nbformat": 4,
 "nbformat_minor": 5
}
